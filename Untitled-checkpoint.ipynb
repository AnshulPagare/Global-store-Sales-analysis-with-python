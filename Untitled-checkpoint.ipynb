{
 "cells": [
  {
   "cell_type": "code",
   "execution_count": 1,
   "id": "7725114a-4493-4eab-a201-4d984e3a4a93",
   "metadata": {},
   "outputs": [],
   "source": [
    "#  import the libraries\n",
    "import numpy as np\n",
    "import pandas as pd\n",
    "import matplotlib.pyplot as plt\n",
    "import seaborn as sns"
   ]
  },
  {
   "cell_type": "code",
   "execution_count": 5,
   "id": "cc1bc288-65d7-4744-a9c5-985d8ded2be4",
   "metadata": {
    "scrolled": true
   },
   "outputs": [],
   "source": [
    "df=pd.read_csv(r\"C:\\Users\\hp\\Downloads\\New folder (2)\\train.csv\")\n"
   ]
  },
  {
   "cell_type": "code",
   "execution_count": 6,
   "id": "fae1dfcc-d425-40ab-a6ea-9dd6b2e1c996",
   "metadata": {},
   "outputs": [
    {
     "data": {
      "text/html": [
       "<div>\n",
       "<style scoped>\n",
       "    .dataframe tbody tr th:only-of-type {\n",
       "        vertical-align: middle;\n",
       "    }\n",
       "\n",
       "    .dataframe tbody tr th {\n",
       "        vertical-align: top;\n",
       "    }\n",
       "\n",
       "    .dataframe thead th {\n",
       "        text-align: right;\n",
       "    }\n",
       "</style>\n",
       "<table border=\"1\" class=\"dataframe\">\n",
       "  <thead>\n",
       "    <tr style=\"text-align: right;\">\n",
       "      <th></th>\n",
       "      <th>Row ID</th>\n",
       "      <th>Order ID</th>\n",
       "      <th>Order Date</th>\n",
       "      <th>Ship Date</th>\n",
       "      <th>Ship Mode</th>\n",
       "      <th>Customer ID</th>\n",
       "      <th>Customer Name</th>\n",
       "      <th>Segment</th>\n",
       "      <th>Country</th>\n",
       "      <th>City</th>\n",
       "      <th>State</th>\n",
       "      <th>Postal Code</th>\n",
       "      <th>Region</th>\n",
       "      <th>Product ID</th>\n",
       "      <th>Category</th>\n",
       "      <th>Sub-Category</th>\n",
       "      <th>Product Name</th>\n",
       "      <th>Sales</th>\n",
       "    </tr>\n",
       "  </thead>\n",
       "  <tbody>\n",
       "    <tr>\n",
       "      <th>0</th>\n",
       "      <td>1</td>\n",
       "      <td>CA-2017-152156</td>\n",
       "      <td>08/11/2017</td>\n",
       "      <td>11/11/2017</td>\n",
       "      <td>Second Class</td>\n",
       "      <td>CG-12520</td>\n",
       "      <td>Claire Gute</td>\n",
       "      <td>Consumer</td>\n",
       "      <td>United States</td>\n",
       "      <td>Henderson</td>\n",
       "      <td>Kentucky</td>\n",
       "      <td>42420.0</td>\n",
       "      <td>South</td>\n",
       "      <td>FUR-BO-10001798</td>\n",
       "      <td>Furniture</td>\n",
       "      <td>Bookcases</td>\n",
       "      <td>Bush Somerset Collection Bookcase</td>\n",
       "      <td>261.9600</td>\n",
       "    </tr>\n",
       "    <tr>\n",
       "      <th>1</th>\n",
       "      <td>2</td>\n",
       "      <td>CA-2017-152156</td>\n",
       "      <td>08/11/2017</td>\n",
       "      <td>11/11/2017</td>\n",
       "      <td>Second Class</td>\n",
       "      <td>CG-12520</td>\n",
       "      <td>Claire Gute</td>\n",
       "      <td>Consumer</td>\n",
       "      <td>United States</td>\n",
       "      <td>Henderson</td>\n",
       "      <td>Kentucky</td>\n",
       "      <td>42420.0</td>\n",
       "      <td>South</td>\n",
       "      <td>FUR-CH-10000454</td>\n",
       "      <td>Furniture</td>\n",
       "      <td>Chairs</td>\n",
       "      <td>Hon Deluxe Fabric Upholstered Stacking Chairs,...</td>\n",
       "      <td>731.9400</td>\n",
       "    </tr>\n",
       "    <tr>\n",
       "      <th>2</th>\n",
       "      <td>3</td>\n",
       "      <td>CA-2017-138688</td>\n",
       "      <td>12/06/2017</td>\n",
       "      <td>16/06/2017</td>\n",
       "      <td>Second Class</td>\n",
       "      <td>DV-13045</td>\n",
       "      <td>Darrin Van Huff</td>\n",
       "      <td>Corporate</td>\n",
       "      <td>United States</td>\n",
       "      <td>Los Angeles</td>\n",
       "      <td>California</td>\n",
       "      <td>90036.0</td>\n",
       "      <td>West</td>\n",
       "      <td>OFF-LA-10000240</td>\n",
       "      <td>Office Supplies</td>\n",
       "      <td>Labels</td>\n",
       "      <td>Self-Adhesive Address Labels for Typewriters b...</td>\n",
       "      <td>14.6200</td>\n",
       "    </tr>\n",
       "    <tr>\n",
       "      <th>3</th>\n",
       "      <td>4</td>\n",
       "      <td>US-2016-108966</td>\n",
       "      <td>11/10/2016</td>\n",
       "      <td>18/10/2016</td>\n",
       "      <td>Standard Class</td>\n",
       "      <td>SO-20335</td>\n",
       "      <td>Sean O'Donnell</td>\n",
       "      <td>Consumer</td>\n",
       "      <td>United States</td>\n",
       "      <td>Fort Lauderdale</td>\n",
       "      <td>Florida</td>\n",
       "      <td>33311.0</td>\n",
       "      <td>South</td>\n",
       "      <td>FUR-TA-10000577</td>\n",
       "      <td>Furniture</td>\n",
       "      <td>Tables</td>\n",
       "      <td>Bretford CR4500 Series Slim Rectangular Table</td>\n",
       "      <td>957.5775</td>\n",
       "    </tr>\n",
       "    <tr>\n",
       "      <th>4</th>\n",
       "      <td>5</td>\n",
       "      <td>US-2016-108966</td>\n",
       "      <td>11/10/2016</td>\n",
       "      <td>18/10/2016</td>\n",
       "      <td>Standard Class</td>\n",
       "      <td>SO-20335</td>\n",
       "      <td>Sean O'Donnell</td>\n",
       "      <td>Consumer</td>\n",
       "      <td>United States</td>\n",
       "      <td>Fort Lauderdale</td>\n",
       "      <td>Florida</td>\n",
       "      <td>33311.0</td>\n",
       "      <td>South</td>\n",
       "      <td>OFF-ST-10000760</td>\n",
       "      <td>Office Supplies</td>\n",
       "      <td>Storage</td>\n",
       "      <td>Eldon Fold 'N Roll Cart System</td>\n",
       "      <td>22.3680</td>\n",
       "    </tr>\n",
       "  </tbody>\n",
       "</table>\n",
       "</div>"
      ],
      "text/plain": [
       "   Row ID        Order ID  Order Date   Ship Date       Ship Mode Customer ID  \\\n",
       "0       1  CA-2017-152156  08/11/2017  11/11/2017    Second Class    CG-12520   \n",
       "1       2  CA-2017-152156  08/11/2017  11/11/2017    Second Class    CG-12520   \n",
       "2       3  CA-2017-138688  12/06/2017  16/06/2017    Second Class    DV-13045   \n",
       "3       4  US-2016-108966  11/10/2016  18/10/2016  Standard Class    SO-20335   \n",
       "4       5  US-2016-108966  11/10/2016  18/10/2016  Standard Class    SO-20335   \n",
       "\n",
       "     Customer Name    Segment        Country             City       State  \\\n",
       "0      Claire Gute   Consumer  United States        Henderson    Kentucky   \n",
       "1      Claire Gute   Consumer  United States        Henderson    Kentucky   \n",
       "2  Darrin Van Huff  Corporate  United States      Los Angeles  California   \n",
       "3   Sean O'Donnell   Consumer  United States  Fort Lauderdale     Florida   \n",
       "4   Sean O'Donnell   Consumer  United States  Fort Lauderdale     Florida   \n",
       "\n",
       "   Postal Code Region       Product ID         Category Sub-Category  \\\n",
       "0      42420.0  South  FUR-BO-10001798        Furniture    Bookcases   \n",
       "1      42420.0  South  FUR-CH-10000454        Furniture       Chairs   \n",
       "2      90036.0   West  OFF-LA-10000240  Office Supplies       Labels   \n",
       "3      33311.0  South  FUR-TA-10000577        Furniture       Tables   \n",
       "4      33311.0  South  OFF-ST-10000760  Office Supplies      Storage   \n",
       "\n",
       "                                        Product Name     Sales  \n",
       "0                  Bush Somerset Collection Bookcase  261.9600  \n",
       "1  Hon Deluxe Fabric Upholstered Stacking Chairs,...  731.9400  \n",
       "2  Self-Adhesive Address Labels for Typewriters b...   14.6200  \n",
       "3      Bretford CR4500 Series Slim Rectangular Table  957.5775  \n",
       "4                     Eldon Fold 'N Roll Cart System   22.3680  "
      ]
     },
     "execution_count": 6,
     "metadata": {},
     "output_type": "execute_result"
    }
   ],
   "source": [
    "df.head()"
   ]
  },
  {
   "cell_type": "code",
   "execution_count": null,
   "id": "1a5e8b12-a3db-4e7f-ae65-2bab241e63d0",
   "metadata": {},
   "outputs": [],
   "source": [
    "df.tail()"
   ]
  },
  {
   "cell_type": "code",
   "execution_count": null,
   "id": "8713aab3-1782-43d1-a555-1d7365cbcaef",
   "metadata": {},
   "outputs": [],
   "source": [
    "# calculating the no. of null value\n",
    "df[\"Postal Code\"].isnull().sum()"
   ]
  },
  {
   "cell_type": "code",
   "execution_count": null,
   "id": "dcce9dab-4395-4a11-9b96-d61d3ed32f1f",
   "metadata": {},
   "outputs": [],
   "source": [
    "df.info()"
   ]
  },
  {
   "cell_type": "code",
   "execution_count": null,
   "id": "4e99a678-7526-438b-b1a3-4699eb349f3e",
   "metadata": {},
   "outputs": [],
   "source": [
    "df.shape"
   ]
  },
  {
   "cell_type": "code",
   "execution_count": null,
   "id": "e37f4918-247c-4f16-9647-7eb02dcefe65",
   "metadata": {},
   "outputs": [],
   "source": [
    "#Filling 0 to the Empty column\n",
    "df[\"Postal Code\"].fillna(0,inplace=True)"
   ]
  },
  {
   "cell_type": "code",
   "execution_count": null,
   "id": "89eb51c9-d99e-4389-a674-83dce4e6deee",
   "metadata": {},
   "outputs": [],
   "source": [
    "#changing datatype from float to int\n",
    "df[\"Postal Code\"]=df[\"Postal Code\"].astype(\"int\")"
   ]
  },
  {
   "cell_type": "code",
   "execution_count": null,
   "id": "ee035278-6822-4c7c-b18f-d6fa5c119158",
   "metadata": {},
   "outputs": [],
   "source": [
    "df.info()"
   ]
  },
  {
   "cell_type": "code",
   "execution_count": null,
   "id": "f0659e06-da76-4224-8f3e-e88b544b62ce",
   "metadata": {},
   "outputs": [],
   "source": [
    "df.describe()"
   ]
  },
  {
   "cell_type": "markdown",
   "id": "ab8f0353-3602-4632-8efd-34b8e0ee43e4",
   "metadata": {},
   "source": [
    "# Data Cleaning\n",
    "### Checking for Duplicates"
   ]
  },
  {
   "cell_type": "code",
   "execution_count": null,
   "id": "78efb0e3-4b93-4ee1-af3e-0de3ce1c0758",
   "metadata": {},
   "outputs": [],
   "source": [
    "# using Duplicated method for FInding duplicates\n",
    "df.duplicated().sum()"
   ]
  },
  {
   "cell_type": "markdown",
   "id": "13121f37-ad7a-456e-a0a3-86aea901e4c9",
   "metadata": {},
   "source": [
    "# Exploratory Data Analysis\n",
    "## Customer Analysis\n",
    "#### Customer Segmentation"
   ]
  },
  {
   "cell_type": "code",
   "execution_count": null,
   "id": "f407b49c-c105-496d-8bda-d255c190ca04",
   "metadata": {},
   "outputs": [],
   "source": [
    "# types of customers\n",
    "types_of_cust=df[\"Segment\"].unique()\n",
    "print(types_of_cust)"
   ]
  },
  {
   "cell_type": "code",
   "execution_count": null,
   "id": "30883208-f1f3-491f-b1af-d66660bcf47a",
   "metadata": {},
   "outputs": [],
   "source": [
    "#checking no. of customers in each segment\n",
    "segment_counts = df.groupby('Segment').size().reset_index(name='Customer id')\n",
    "print(segment_counts)"
   ]
  },
  {
   "cell_type": "code",
   "execution_count": null,
   "id": "e28fb21d-6161-44f4-93e7-5379b59d6e64",
   "metadata": {},
   "outputs": [],
   "source": [
    "#renaming columns\n",
    "segment_counts=segment_counts.rename(columns={\"Segment\":\"Cust_type\",\"Customer id\":\"Total_customer\"})\n",
    "print(segment_counts)"
   ]
  },
  {
   "cell_type": "code",
   "execution_count": null,
   "id": "bb0ad50a-a83f-4214-abbb-ab58ae567044",
   "metadata": {},
   "outputs": [],
   "source": [
    "#Plotting a pie chart\n",
    "fig = plt.figure(figsize =(10, 7))\n",
    "plt.pie(segment_counts[\"Total_customer\"], labels = segment_counts[\"Cust_type\"],autopct='%1.1f%%')\n",
    "plt.title(\"Distribution of Customers\")"
   ]
  },
  {
   "cell_type": "code",
   "execution_count": null,
   "id": "f308262a-a42e-4d0e-8057-310d8f9bf5b6",
   "metadata": {},
   "outputs": [],
   "source": [
    "df.head()"
   ]
  },
  {
   "cell_type": "code",
   "execution_count": null,
   "id": "6b582982-b0b0-4117-94f8-dce477d34fa7",
   "metadata": {},
   "outputs": [],
   "source": [
    "sales_per_custcategory=df.groupby(['Segment'])['Sales'].sum().reset_index()\n",
    "print(sales_per_custcategory)"
   ]
  },
  {
   "cell_type": "code",
   "execution_count": null,
   "id": "2b75bd9d-b6c8-477a-a634-bd78af6efadc",
   "metadata": {},
   "outputs": [],
   "source": [
    "plt.pie(sales_per_custcategory[\"Sales\"],labels=sales_per_custcategory[\"Segment\"],autopct='%1.1f%%')\n",
    "plt.title(\"Sales per cust category\")"
   ]
  },
  {
   "cell_type": "code",
   "execution_count": null,
   "id": "2d1661e2-82e5-46c4-a106-a1722f66c6fc",
   "metadata": {},
   "outputs": [],
   "source": [
    "# Create the bar chart\n",
    "plt.bar(sales_per_custcategory[\"Segment\"],sales_per_custcategory[\"Sales\"] )\n",
    "\n",
    "# Add a title and label the axes\n",
    "plt.title('My Bar Chart')\n",
    "plt.xlabel('Segment')\n",
    "plt.ylabel('Sales')\n",
    "\n",
    "# Display the chart\n",
    "plt.show()"
   ]
  },
  {
   "cell_type": "markdown",
   "id": "cdd1092c-c03d-4207-81aa-89c03507d119",
   "metadata": {},
   "source": [
    "### Since from the above graphs and pie chart we hav analyse that the Consumer based product is most profitable"
   ]
  },
  {
   "cell_type": "code",
   "execution_count": null,
   "id": "5620fab6-ab4e-4f3b-806e-36270e668a99",
   "metadata": {},
   "outputs": [],
   "source": [
    "sales_per_category = df.groupby('Category').size().reset_index(name='Sales')\n",
    "print(sales_per_category)"
   ]
  },
  {
   "cell_type": "code",
   "execution_count": null,
   "id": "29291bbf-ef15-4433-8655-51529079cdbd",
   "metadata": {},
   "outputs": [],
   "source": [
    "plt.pie(sales_per_category[\"Sales\"], labels = sales_per_category[\"Category\"],autopct='%1.1f%%')\n",
    "plt.title(\"Sales per Category\")"
   ]
  },
  {
   "cell_type": "markdown",
   "id": "e884b827-1284-4562-b580-5da8d21e84ec",
   "metadata": {},
   "source": [
    "### From the above graph we have analyse that the Office supplies had the Maximum sales."
   ]
  },
  {
   "cell_type": "markdown",
   "id": "7817970a-cb79-45df-9ed6-9a2e03c0d2a3",
   "metadata": {},
   "source": [
    "#  Customer Loyalty"
   ]
  },
  {
   "cell_type": "code",
   "execution_count": null,
   "id": "e7ece1ff-fb4a-4682-90bd-a7e1266cb582",
   "metadata": {},
   "outputs": [],
   "source": [
    "df.head()"
   ]
  },
  {
   "cell_type": "code",
   "execution_count": null,
   "id": "35f092d0-6b1a-4d2f-84d8-47f5ae45a21c",
   "metadata": {},
   "outputs": [],
   "source": [
    "# grouping the data according to (customer name,customer id,segment) and calculating the frequency of orders\n",
    "customer_order_frequency=df.groupby([\"Customer ID\",\"Customer Name\",\"Segment\"])[\"Order ID\"].count().reset_index()\n",
    "print(customer_order_frequency)"
   ]
  },
  {
   "cell_type": "code",
   "execution_count": null,
   "id": "542ed9f0-9217-4c5e-a52b-defb6778c91f",
   "metadata": {},
   "outputs": [],
   "source": [
    "top10=customer_order_frequency.sort_values(by=\"Order ID\",ascending=False)\n",
    "print(top10.head(10).reset_index(drop=True))"
   ]
  },
  {
   "cell_type": "markdown",
   "id": "b88c806b-9086-4297-ae31-b85abadfbea8",
   "metadata": {},
   "source": [
    "#### in terms of frequency Willian brown is the customer with highest no. of orders"
   ]
  },
  {
   "cell_type": "code",
   "execution_count": null,
   "id": "8b8db52c-7ee6-4a37-a175-bc95c44f4079",
   "metadata": {},
   "outputs": [],
   "source": [
    "# group the data based on Customer Id,customer name asn Sales.\n",
    "total_sales_by_customer=df.groupby([\"Customer ID\",\"Customer Name\"])[\"Sales\"].sum().reset_index()\n",
    "top=total_sales_by_customer.sort_values(by=\"Sales\",ascending=False)\n",
    "print(top.head(10).reset_index(drop=True))"
   ]
  },
  {
   "cell_type": "markdown",
   "id": "cb525c3a-2257-4b37-9c38-380b6f911076",
   "metadata": {},
   "source": [
    " ##### In terms of sales Sean Miller is the customer with the highest no of sales."
   ]
  },
  {
   "cell_type": "markdown",
   "id": "7e4eaf12-44a1-441c-83c8-56fadc35d545",
   "metadata": {},
   "source": [
    "# Mode of shipping"
   ]
  },
  {
   "cell_type": "code",
   "execution_count": null,
   "id": "33f37463-e0d3-4792-89bc-136635b5f0b9",
   "metadata": {},
   "outputs": [],
   "source": [
    "df.head()"
   ]
  },
  {
   "cell_type": "code",
   "execution_count": null,
   "id": "a91e1e17-7e6d-4b37-a600-2141c8b9f973",
   "metadata": {},
   "outputs": [],
   "source": [
    "mode_of_shipping=df.groupby([\"Ship Mode\"])[\"Order ID\"].count().reset_index()\n",
    "print(mode_of_shipping)"
   ]
  },
  {
   "cell_type": "code",
   "execution_count": null,
   "id": "4343ef7a-9bde-4495-934e-5f0485186c95",
   "metadata": {},
   "outputs": [],
   "source": [
    "# Create the bar chart\n",
    "plt.bar(mode_of_shipping[\"Ship Mode\"],mode_of_shipping[\"Order ID\"] )\n",
    "\n",
    "# Add a title and label the axes\n",
    "plt.title('Mode of Shipping')\n",
    "plt.xlabel('Ship Mode')\n",
    "plt.ylabel('Order ID')\n",
    "\n",
    "# Display the chart\n",
    "plt.show()"
   ]
  },
  {
   "cell_type": "markdown",
   "id": "b66040b9-9b61-4954-af11-683d8f14aa26",
   "metadata": {},
   "source": [
    "## From the above graph we have analysis that Standard class has the highest no.of shipment."
   ]
  },
  {
   "cell_type": "markdown",
   "id": "132ff5d0-a6aa-47d5-b48d-674f723a8c50",
   "metadata": {},
   "source": [
    "#### Graphical analysis by STATE and CITY."
   ]
  },
  {
   "cell_type": "code",
   "execution_count": null,
   "id": "bca11544-3100-474a-a961-5735ed35c12e",
   "metadata": {},
   "outputs": [],
   "source": [
    "#customer by state\n",
    "state=df[\"State\"].value_counts().reset_index()\n",
    "state=state.rename(columns={\"count\":\"total_customer\"})\n",
    "print(state.head(10))"
   ]
  },
  {
   "cell_type": "code",
   "execution_count": null,
   "id": "23d19b81-89d2-49af-863b-d8746f6c1f01",
   "metadata": {},
   "outputs": [],
   "source": [
    "#customer by city\n",
    "city=df[\"City\"].value_counts().reset_index()\n",
    "city=city.rename(columns={\"count\":\"total_customer\"})\n",
    "print(city.head(10))"
   ]
  },
  {
   "cell_type": "markdown",
   "id": "2aa28f2d-d7dd-4c2a-9dae-b127d426b6a6",
   "metadata": {},
   "source": [
    "## Sales per state"
   ]
  },
  {
   "cell_type": "code",
   "execution_count": null,
   "id": "5b186f48-53d2-4f93-bc40-0a052ce04c14",
   "metadata": {},
   "outputs": [],
   "source": [
    "#sales per state\n",
    "sales_per_state=df.groupby([\"State\"])[\"Sales\"].sum().reset_index()\n",
    "print(sales_per_state.head(10))"
   ]
  },
  {
   "cell_type": "code",
   "execution_count": null,
   "id": "f300fb29-1f91-495f-883a-cdeaf2fedb43",
   "metadata": {},
   "outputs": [],
   "source": [
    "#top 5 states\n",
    "top_state=sales_per_state.sort_values(by=\"Sales\",ascending=False)\n",
    "print(top_state.head(10).reset_index(drop=True))"
   ]
  },
  {
   "cell_type": "code",
   "execution_count": null,
   "id": "5fc355cf-5d5b-4575-bbf4-12c068fa717a",
   "metadata": {},
   "outputs": [],
   "source": [
    "#sales per city\n",
    "sales_per_city=df.groupby([\"City\"])[\"Sales\"].sum().reset_index()\n",
    "top_city=sales_per_city.sort_values(by=\"Sales\",ascending=False)\n",
    "print(top_city.head(10).reset_index(drop=True))\n"
   ]
  },
  {
   "cell_type": "markdown",
   "id": "863aa934-e313-45fb-ae31-be18312ed064",
   "metadata": {},
   "source": [
    "# Product Analysis"
   ]
  },
  {
   "cell_type": "code",
   "execution_count": null,
   "id": "3aea2806-7eba-4243-b225-c98a292ee46a",
   "metadata": {},
   "outputs": [],
   "source": [
    "df.head()"
   ]
  },
  {
   "cell_type": "code",
   "execution_count": null,
   "id": "d6ae1d4a-63e0-407f-8d03-9fa6075f2c90",
   "metadata": {},
   "outputs": [],
   "source": [
    "# types of product category\n",
    "product_category=df[\"Category\"].unique()\n",
    "print(product_category)"
   ]
  },
  {
   "cell_type": "code",
   "execution_count": null,
   "id": "72045123-acc8-482e-a135-7d6a6c493bae",
   "metadata": {},
   "outputs": [],
   "source": [
    "# Group the data by sub_category\n",
    "sub_category=df.groupby([\"Category\"])[\"Sub-Category\"].nunique().reset_index()\n",
    "print(sub_category)"
   ]
  },
  {
   "cell_type": "code",
   "execution_count": null,
   "id": "a426d8d5-9129-47cd-aaa7-7c39d495cdb5",
   "metadata": {},
   "outputs": [],
   "source": [
    "sub_category=sub_category.sort_values(by= 'Sub-Category',ascending=False)\n",
    "print(sub_category)"
   ]
  },
  {
   "cell_type": "code",
   "execution_count": null,
   "id": "c53e78a8-e992-4827-bc43-920ba564d83f",
   "metadata": {},
   "outputs": [],
   "source": [
    "#Sales for each category\n",
    "category_sales=df.groupby(['Category'])['Sales'].sum().reset_index()\n",
    "category_sales=category_sales.sort_values(by='Sales',ascending=False)\n",
    "print(category_sales)"
   ]
  },
  {
   "cell_type": "code",
   "execution_count": null,
   "id": "547f8984-7528-487c-be83-0cdc18404504",
   "metadata": {},
   "outputs": [],
   "source": [
    "#plotting a pie chart\n",
    "plt.pie(category_sales['Sales'],labels=category_sales['Category'],autopct='%1.1f%%')\n",
    "plt.title=(\"Category Sales\")\n",
    "plt.show()\n"
   ]
  },
  {
   "cell_type": "markdown",
   "id": "ab611dce-5cd2-496a-a6af-601557f9ba2c",
   "metadata": {},
   "source": [
    "### From the above graph we have clearly seen that the Technology category have the Maximum sales."
   ]
  },
  {
   "cell_type": "code",
   "execution_count": null,
   "id": "37df5bd7-9db4-4080-9ade-ebf1c6626833",
   "metadata": {},
   "outputs": [],
   "source": [
    "# sub_category sales.\n",
    "subcat_sales=df.groupby(['Sub-Category'])['Sales'].sum().reset_index()\n",
    "subcat_sales=subcat_sales.sort_values(by='Sales',ascending=True)\n",
    "print(subcat_sales.reset_index(drop=True))\n"
   ]
  },
  {
   "cell_type": "code",
   "execution_count": null,
   "id": "02f8261a-5170-456c-9de8-9638714c63a4",
   "metadata": {},
   "outputs": [],
   "source": [
    "#plotting the bar graph\n",
    "plt.bar(subcat_sales['Sub-Category'],subcat_sales['Sales'])\n",
    "plt.title=(\"category sales\")\n",
    "plt.xlabel=['Sub-Category']\n",
    "plt.ylabel=['Sales']\n",
    "plt.xticks(rotation=90)\n",
    "fig = plt.figure(figsize =(10, 7))\n",
    "plt.show()"
   ]
  },
  {
   "cell_type": "markdown",
   "id": "d95ebb7b-b845-41c9-be39-96739c9a99aa",
   "metadata": {},
   "source": [
    "### From the above graph we have seen that the phones have the highest sales in sub_category."
   ]
  },
  {
   "cell_type": "markdown",
   "id": "6ba77695-22bd-43e1-b608-f652d14291b3",
   "metadata": {},
   "source": [
    "# Yearly Sales"
   ]
  },
  {
   "cell_type": "code",
   "execution_count": null,
   "id": "a8e86671-2efc-49c3-a7aa-05670f363c8f",
   "metadata": {},
   "outputs": [],
   "source": [
    "# convert order date to date time format.\n",
    "df['Order Date'] = pd.to_datetime(df['Order Date'])\n",
    "yearly_sales=df.groupby(df['Order Date'].dt.year)['Sales'].sum().reset_index()\n",
    "yearly_sales=yearly_sales.rename(columns={'Order Date':'Year','Sales':'Total Sales'})\n",
    "print(yearly_sales)"
   ]
  },
  {
   "cell_type": "code",
   "execution_count": null,
   "id": "8d88c5a0-4f3d-4809-9009-dfedcd9f78f5",
   "metadata": {},
   "outputs": [],
   "source": [
    "plt.bar(yearly_sales['Year'],yearly_sales['Total Sales'])\n",
    "#label\n",
    "plt.title=(\"yearly sales\")\n",
    "plt.xlabel=[\"Year\"]\n",
    "plt.ylabel=[\"Total Sales\"]\n",
    "fig = plt.figure(figsize =(20, 25))\n",
    "plt.show()"
   ]
  },
  {
   "cell_type": "code",
   "execution_count": null,
   "id": "645bbef3-7b4e-4036-9393-5c833f6dd402",
   "metadata": {},
   "outputs": [],
   "source": [
    "# plotting the line graph \n",
    "plt.plot(yearly_sales['Year'],yearly_sales['Total Sales'],marker='o',linestyle='--')\n",
    "#label\n",
    "plt.title=(\"yearly sales\")\n",
    "plt.xlabel=[\"Year\"]\n",
    "plt.ylabel=[\"Total Sales\"]\n",
    "fig = plt.figure(figsize =(20, 25))\n",
    "plt.show()"
   ]
  },
  {
   "cell_type": "markdown",
   "id": "60a589c6-e81a-4516-8726-e68f5bf0d28b",
   "metadata": {},
   "source": [
    "## From the above two graphs we have seen that year on year sales has been Increased."
   ]
  },
  {
   "cell_type": "markdown",
   "id": "bdb8eaad-5fe2-4560-9725-0ef925a68e0e",
   "metadata": {},
   "source": [
    "# Quaterly sales"
   ]
  },
  {
   "cell_type": "code",
   "execution_count": null,
   "id": "04e4e5b4-9c64-487a-84ce-b383acf747d4",
   "metadata": {},
   "outputs": [],
   "source": [
    "df['Order Date'] = pd.to_datetime(df['Order Date'])\n",
    "# filter data acc. to year\n",
    "yearly_sales=df[df['Order Date'].dt.year==2017]\n",
    "# calculating quaterly sales of 2017.\n",
    "Quaterly_sales=yearly_sales.resample('Q',on='Order Date')['Sales'].sum().reset_index()\n",
    "Quaterly_sales=Quaterly_sales.rename(columns={'Order Date':'Quater','Sales':'Total Sales'})\n",
    "print(\"This is the quaterly sales of 2017\")\n",
    "print(Quaterly_sales)\n"
   ]
  },
  {
   "cell_type": "code",
   "execution_count": null,
   "id": "3f0ca85c-7218-47f2-ba57-c0481711d3a4",
   "metadata": {},
   "outputs": [],
   "source": [
    "#plotting the linE graph\n",
    "plt.plot(Quaterly_sales['Quater'],Quaterly_sales['Total Sales'],marker='o',linestyle='--')\n",
    "#label\n",
    "plt.title=(\"Quaterly sales\")\n",
    "plt.xlabel=[\"Quater\"]\n",
    "plt.ylabel=[\"Total Sales\"]\n",
    "plt.xticks(rotation=90)\n",
    "plt.show()\n"
   ]
  },
  {
   "cell_type": "markdown",
   "id": "2cd62b4b-7b8e-4871-92b6-51c42824f69e",
   "metadata": {},
   "source": [
    "### Monthly Sales trend for year 2017"
   ]
  },
  {
   "cell_type": "code",
   "execution_count": null,
   "id": "a9994c79-4b99-4c61-89eb-d6008573c5bc",
   "metadata": {},
   "outputs": [],
   "source": [
    "df['Order Date']=pd.to_datetime(df['Order Date'])\n",
    "# filter data acc. to year\n",
    "monthly_sales=df[df['Order Date'].dt.year==2017]\n",
    "# calculating quaterly sales of 2017.\n",
    "monthly_sales=yearly_sales.resample('M',on='Order Date')['Sales'].sum().reset_index()\n",
    "monthly_sales=monthly_sales.rename(columns={'Order Date':'Month','Sales':'Total Sales'})\n",
    "print(\"This is the Monthly sales of 2017\")\n",
    "print(monthly_sales)\n"
   ]
  },
  {
   "cell_type": "code",
   "execution_count": null,
   "id": "6f0745dd-af92-4a52-b047-0f87b648e53f",
   "metadata": {},
   "outputs": [],
   "source": [
    "#plotting the linE graph\n",
    "plt.plot(monthly_sales['Month'],monthly_sales['Total Sales'],marker='o')\n",
    "#label\n",
    "plt.title=(\"monthly sales\")\n",
    "plt.xlabel=[\"Month\"]\n",
    "plt.ylabel=[\"Total Sales\"]\n",
    "plt.xticks(rotation=90)\n",
    "plt.show()"
   ]
  },
  {
   "cell_type": "markdown",
   "id": "2ee8c2ef-029c-4cb1-aaf4-8ab4d402e606",
   "metadata": {},
   "source": [
    "### From the above graph-: December month had the highest sales.\n"
   ]
  },
  {
   "cell_type": "markdown",
   "id": "a269dd23-412e-4042-94e4-b338764143b3",
   "metadata": {},
   "source": [
    "# Conclusion-:\n"
   ]
  },
  {
   "cell_type": "markdown",
   "id": "05012796-686e-473d-a10d-27a8375e973e",
   "metadata": {
    "jp-MarkdownHeadingCollapsed": true
   },
   "source": [
    "* Most prefered shipping mode is the standard class.\n",
    "* Most Valuable product category is Technology.\n",
    "* Consumers contributes the half of the global store revenues.\n",
    "* In the sub-category Phones have the highest sales among all.\n",
    "* Most loyal and frequent customer in store is William brown with the highest 35 order."
   ]
  },
  {
   "attachments": {},
   "cell_type": "markdown",
   "id": "d327505a-0e0c-48c7-afc8-591b50be0ae6",
   "metadata": {
    "jp-MarkdownHeadingCollapsed": true
   },
   "source": [
    "* The customer Sean miller ranked the highest in terms of values of goods purchased with ($25043).\n",
    "\n",
    "* The stated California,New york and Texas holds the most customers and highest in sales.\n",
    "* There is a direct relation between Customers and Sales in Top States.\n",
    "* Sales increased after drop in 2016 and jumps in 2018 with productives sales of($722K).\n",
    "  "
   ]
  },
  {
   "cell_type": "markdown",
   "id": "dababc92-4599-4c64-a257-3349eb133c20",
   "metadata": {},
   "source": [
    "# Recommendations"
   ]
  },
  {
   "cell_type": "markdown",
   "id": "c13efe07-e258-40c6-b623-baebb0060d48",
   "metadata": {},
   "source": [
    "* Allocate resources to optimize top performing product categories and sub-categories to maximize sales.\n",
    "* Consider offering multiple shipiing options to cater to different customer prefrences.\n",
    "* Consumer and Corporate segment make up more than 70 % of the customer base.\n",
    "* For least selling products ,either drop from the catalogue or change suppliers and bargain for the cheap price.\n",
    "  "
   ]
  },
  {
   "cell_type": "code",
   "execution_count": null,
   "id": "594a9c12-e537-4e89-bfb3-a9fe598d1cbe",
   "metadata": {},
   "outputs": [],
   "source": []
  }
 ],
 "metadata": {
  "kernelspec": {
   "display_name": "Python 3 (ipykernel)",
   "language": "python",
   "name": "python3"
  },
  "language_info": {
   "codemirror_mode": {
    "name": "ipython",
    "version": 3
   },
   "file_extension": ".py",
   "mimetype": "text/x-python",
   "name": "python",
   "nbconvert_exporter": "python",
   "pygments_lexer": "ipython3",
   "version": "3.11.5"
  }
 },
 "nbformat": 4,
 "nbformat_minor": 5
}
